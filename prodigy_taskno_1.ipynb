{
  "nbformat": 4,
  "nbformat_minor": 0,
  "metadata": {
    "colab": {
      "provenance": []
    },
    "kernelspec": {
      "name": "python3",
      "display_name": "Python 3"
    },
    "language_info": {
      "name": "python"
    }
  },
  "cells": [
    {
      "cell_type": "markdown",
      "source": [
        "**Task 1**"
      ],
      "metadata": {
        "id": "UBG5Hs-zDP1d"
      }
    },
    {
      "cell_type": "code",
      "execution_count": null,
      "metadata": {
        "id": "rPKtU3Jk6Zp5"
      },
      "outputs": [],
      "source": [
        "import pandas as pd\n",
        "import numpy as np\n",
        "import seaborn as sns\n",
        "import matplotlib.pyplot as plt\n",
        "from scipy import stats"
      ]
    },
    {
      "cell_type": "code",
      "source": [
        "# Load your dataset\n",
        "titanic = pd.read_csv('train.csv')"
      ],
      "metadata": {
        "id": "YW4HAykq7nNA"
      },
      "execution_count": null,
      "outputs": []
    },
    {
      "cell_type": "code",
      "source": [
        "# Display the first few rows of the dataset\n",
        "print(\"Original Titanic Dataset:\")\n",
        "print(titanic.head())"
      ],
      "metadata": {
        "colab": {
          "base_uri": "https://localhost:8080/"
        },
        "id": "HP9F2P4w707_",
        "outputId": "cea5d112-6692-4342-f5cf-f6283530ab81"
      },
      "execution_count": null,
      "outputs": [
        {
          "output_type": "stream",
          "name": "stdout",
          "text": [
            "Original Titanic Dataset:\n",
            "   PassengerId  Survived  Pclass  \\\n",
            "0            1         0       3   \n",
            "1            2         1       1   \n",
            "2            3         1       3   \n",
            "3            4         1       1   \n",
            "4            5         0       3   \n",
            "\n",
            "                                                Name     Sex   Age  SibSp  \\\n",
            "0                            Braund, Mr. Owen Harris    male  22.0      1   \n",
            "1  Cumings, Mrs. John Bradley (Florence Briggs Th...  female  38.0      1   \n",
            "2                             Heikkinen, Miss. Laina  female  26.0      0   \n",
            "3       Futrelle, Mrs. Jacques Heath (Lily May Peel)  female  35.0      1   \n",
            "4                           Allen, Mr. William Henry    male  35.0      0   \n",
            "\n",
            "   Parch            Ticket     Fare Cabin Embarked  \n",
            "0      0         A/5 21171   7.2500   NaN        S  \n",
            "1      0          PC 17599  71.2833   C85        C  \n",
            "2      0  STON/O2. 3101282   7.9250   NaN        S  \n",
            "3      0            113803  53.1000  C123        S  \n",
            "4      0            373450   8.0500   NaN        S  \n"
          ]
        }
      ]
    },
    {
      "cell_type": "code",
      "source": [
        "# Identify Missing Values\n",
        "missing_values = titanic.isnull().sum()\n",
        "print(\"\\nMissing Values:\\n\", missing_values)"
      ],
      "metadata": {
        "colab": {
          "base_uri": "https://localhost:8080/"
        },
        "id": "LO3GH8Za8MzN",
        "outputId": "340ad173-2114-4c9c-c5be-03c865d6e3dd"
      },
      "execution_count": null,
      "outputs": [
        {
          "output_type": "stream",
          "name": "stdout",
          "text": [
            "\n",
            "Missing Values:\n",
            " PassengerId      0\n",
            "Survived         0\n",
            "Pclass           0\n",
            "Name             0\n",
            "Sex              0\n",
            "Age            177\n",
            "SibSp            0\n",
            "Parch            0\n",
            "Ticket           0\n",
            "Fare             0\n",
            "Cabin          687\n",
            "Embarked         2\n",
            "dtype: int64\n"
          ]
        }
      ]
    },
    {
      "cell_type": "code",
      "source": [
        "# Handle Missing Values: Remove rows with missing values\n",
        "titanic_cleaned = titanic.dropna(subset=['Age', 'Cabin', 'Embarked'])"
      ],
      "metadata": {
        "id": "t-z9vgLw8Sdw"
      },
      "execution_count": null,
      "outputs": []
    },
    {
      "cell_type": "code",
      "source": [
        "# Identify Outliers: Using Z-Score\n",
        "z_scores = np.abs(stats.zscore(titanic_cleaned[['Age', 'Fare']]))\n",
        "outliers = (z_scores > 3).any(axis=1)"
      ],
      "metadata": {
        "id": "h8pQYI3c9mwn"
      },
      "execution_count": null,
      "outputs": []
    },
    {
      "cell_type": "code",
      "source": [
        "# Handle Outliers\n",
        "titanic_cleaned = titanic_cleaned[~outliers]"
      ],
      "metadata": {
        "id": "Sniz_Zpb9w6W"
      },
      "execution_count": null,
      "outputs": []
    },
    {
      "cell_type": "code",
      "source": [
        "# Perform Data Validation and save the Cleaned Dataset\n",
        "titanic_cleaned.to_csv('cleaned_titanic_dataset.csv', index=False)"
      ],
      "metadata": {
        "id": "4QYAIg6OCDzX"
      },
      "execution_count": null,
      "outputs": []
    },
    {
      "cell_type": "code",
      "source": [
        "# Print statistics of the cleaned dataset\n",
        "print(\"\\nSummary Statistics of Cleaned Titanic Dataset:\")\n",
        "print(titanic_cleaned.describe())"
      ],
      "metadata": {
        "colab": {
          "base_uri": "https://localhost:8080/"
        },
        "id": "694O9BZ-CXOH",
        "outputId": "5a84756b-bf4a-4ba8-9d04-aad2c739fd5d"
      },
      "execution_count": null,
      "outputs": [
        {
          "output_type": "stream",
          "name": "stdout",
          "text": [
            "\n",
            "Summary Statistics of Cleaned Titanic Dataset:\n",
            "       PassengerId    Survived      Pclass         Age       SibSp  \\\n",
            "count   181.000000  181.000000  181.000000  181.000000  181.000000   \n",
            "mean    452.563536    0.668508    1.193370   35.676354    0.469613   \n",
            "std     246.943454    0.472055    0.517644   15.730437    0.645854   \n",
            "min       2.000000    0.000000    1.000000    0.920000    0.000000   \n",
            "25%     263.000000    0.000000    1.000000   24.000000    0.000000   \n",
            "50%     454.000000    1.000000    1.000000   36.000000    0.000000   \n",
            "75%     663.000000    1.000000    1.000000   48.000000    1.000000   \n",
            "max     890.000000    1.000000    3.000000   80.000000    3.000000   \n",
            "\n",
            "            Parch        Fare  \n",
            "count  181.000000  181.000000  \n",
            "mean     0.475138   73.890792  \n",
            "std      0.756961   61.491733  \n",
            "min      0.000000    0.000000  \n",
            "25%      0.000000   29.700000  \n",
            "50%      0.000000   56.929200  \n",
            "75%      1.000000   90.000000  \n",
            "max      4.000000  263.000000  \n"
          ]
        }
      ]
    },
    {
      "cell_type": "markdown",
      "source": [
        "**Calculate summary statistics**"
      ],
      "metadata": {
        "id": "_5bvHVmKQaJu"
      }
    },
    {
      "cell_type": "code",
      "source": [
        "print(\"Mean:\")\n",
        "print(mean)\n",
        "\n",
        "print(\"\\nMedian:\")\n",
        "print(median)\n",
        "\n",
        "print(\"\\nMode:\")\n",
        "print(mode)\n",
        "\n",
        "print(\"\\nStandard Deviation:\")\n",
        "print(std_dev)"
      ],
      "metadata": {
        "colab": {
          "base_uri": "https://localhost:8080/"
        },
        "id": "Q27Dft8pQudx",
        "outputId": "2ba37764-8a2e-4333-c770-86ee85c4aee3"
      },
      "execution_count": null,
      "outputs": [
        {
          "output_type": "stream",
          "name": "stdout",
          "text": [
            "Mean:\n",
            "PassengerId    446.000000\n",
            "Survived         0.383838\n",
            "Pclass           2.308642\n",
            "Age             29.699118\n",
            "SibSp            0.523008\n",
            "Parch            0.381594\n",
            "Fare            32.204208\n",
            "dtype: float64\n",
            "\n",
            "Median:\n",
            "PassengerId    446.0000\n",
            "Survived         0.0000\n",
            "Pclass           3.0000\n",
            "Age             28.0000\n",
            "SibSp            0.0000\n",
            "Parch            0.0000\n",
            "Fare            14.4542\n",
            "dtype: float64\n",
            "\n",
            "Mode:\n",
            "PassengerId                      1\n",
            "Survived                       0.0\n",
            "Pclass                         3.0\n",
            "Name           Abbing, Mr. Anthony\n",
            "Sex                           male\n",
            "Age                           24.0\n",
            "SibSp                          0.0\n",
            "Parch                          0.0\n",
            "Ticket                        1601\n",
            "Fare                          8.05\n",
            "Cabin                      B96 B98\n",
            "Embarked                         S\n",
            "Name: 0, dtype: object\n",
            "\n",
            "Standard Deviation:\n",
            "PassengerId    257.353842\n",
            "Survived         0.486592\n",
            "Pclass           0.836071\n",
            "Age             14.526497\n",
            "SibSp            1.102743\n",
            "Parch            0.806057\n",
            "Fare            49.693429\n",
            "dtype: float64\n"
          ]
        }
      ]
    },
    {
      "cell_type": "markdown",
      "source": [
        "**Visualization using Histogram**\n",
        "\n",
        "Create a histogram to visualize the distribution of data in a dataset"
      ],
      "metadata": {
        "id": "jm6EQYsFR7xK"
      }
    },
    {
      "cell_type": "code",
      "source": [
        "sns.histplot(data=titanic, x='Age', bins=20, color='skyblue', edgecolor='black', kde=True)\n",
        "plt.xlabel('Age')\n",
        "plt.ylabel('Count')\n",
        "plt.title('Histogram of Passenger Ages in Titanic')\n",
        "plt.show()"
      ],
      "metadata": {
        "colab": {
          "base_uri": "https://localhost:8080/",
          "height": 472
        },
        "id": "epXP4X4ySwtS",
        "outputId": "d6503230-eedb-4a82-aa61-ecc7d14562e0"
      },
      "execution_count": null,
      "outputs": [
        {
          "output_type": "display_data",
          "data": {
            "text/plain": [
              "<Figure size 640x480 with 1 Axes>"
            ],
            "image/png": "[encoded data removed]"
          },
          "metadata": {}
        }
      ]
    }
  ]
}